{
 "cells": [
  {
   "cell_type": "code",
   "execution_count": 1,
   "metadata": {},
   "outputs": [
    {
     "name": "stderr",
     "output_type": "stream",
     "text": [
      "C:\\Users\\Admin\\Anaconda3\\lib\\site-packages\\gensim\\utils.py:1209: UserWarning: detected Windows; aliasing chunkize to chunkize_serial\n",
      "  warnings.warn(\"detected Windows; aliasing chunkize to chunkize_serial\")\n"
     ]
    }
   ],
   "source": [
    "# Importing the libraries\n",
    "from sklearn import svm\n",
    "from sklearn.naive_bayes import MultinomialNB\n",
    "from sklearn.model_selection import train_test_split\n",
    "import numpy as np\n",
    "import pandas as pd\n",
    "import matplotlib.pyplot as plt\n",
    "import gensim\n",
    "from gensim.test.utils import datapath\n",
    "from gensim.models import Word2Vec\n",
    "import os\n",
    "\n",
    "# Helpful variables\n",
    "EXT_DATA_FOLDER = \"C:\\\\Users\\\\Admin\\\\Projects\\\\thesis\\\\data\\\\\"\n",
    "EXT_DATA_FOLDER2 = \"B:\\\\Datasets\\\\\"\n",
    "\n",
    "ANALYSIS_SAMPLES = os.path.join(EXT_DATA_FOLDER, \"Credibility_Analysis_Samples\\\\September_25\\\\\")\n",
    "dataset_columns = ['Identifier', 'Type', 'Category', 'URL', 'Cat1', 'Cat2', 'Cat3', 'Cat4', 'Cat5',\n",
    " 'Cat6', 'Cat7', 'Score', 'First date_time', 'Tweets', 'Likes', 'Retweets',\n",
    " 'Potential exposure', 'HTML', 'TEXT']\n",
    "criterias = [\"Cat1\", \"Cat2\", \"Cat3\", \"Cat4\", \"Cat5\", \"Cat6\", \"Cat7\"]\n"
   ]
  },
  {
   "cell_type": "code",
   "execution_count": 2,
   "metadata": {},
   "outputs": [],
   "source": [
    "import nltk\n",
    "from nltk import word_tokenize\n",
    "from nltk import sent_tokenize\n",
    "# nltk.download('punkt') #uncomment if running on new machine"
   ]
  },
  {
   "cell_type": "code",
   "execution_count": 3,
   "metadata": {},
   "outputs": [],
   "source": [
    "def create_dataset(corpus_path, annotated_samples):\n",
    "    \"\"\"\n",
    "    Input: \n",
    "    corpus_path: Path for a CSV file containing a list of article URLs and its article text\n",
    "    annotated_samples: Path of the excel file containing articles and its associated URL along with its labels\n",
    "    \n",
    "    Method:\n",
    "    Retrieves the article text by matching the URLs within the corpus_path and annotated_samples and creates a dataframe \n",
    "    containing the URL, article text and the article's corresponding labels.\n",
    "    \n",
    "    Output:\n",
    "    A pandas dataframe\n",
    "    \"\"\"\n",
    "    article_corpus = pd.read_csv(corpus_path)\n",
    "    annotated_corpus = pd.read_excel((annotated_samples))\n",
    "    article_corpus.columns = [\"URL\", \"HTML\", \"TEXT\"]\n",
    "    annotated_articles = annotated_corpus.loc[(annotated_corpus[\"Cat7\"] == 0) | (annotated_corpus[\"Cat7\"] == 1)]\n",
    "    dataset = pd.merge(annotated_articles, article_corpus, how='left', on='URL')\n",
    "    return dataset\n"
   ]
  },
  {
   "cell_type": "code",
   "execution_count": null,
   "metadata": {},
   "outputs": [],
   "source": [
    "corpus_path = os.path.join(EXT_DATA_FOLDER, \"url_text.csv\")\n",
    "excel_files = [\"sample_third_adam_new.xlsx\", \"sample_third_amalie_new.xlsx\", \"sample_third_maryke_new.xlsx\"]\n",
    "\n",
    "df_files = []\n",
    "\n",
    "for filename in excel_files:\n",
    "    annotated_path = os.path.join(ANALYSIS_SAMPLES, filename)\n",
    "    data = create_dataset(corpus_path, annotated_path)\n",
    "    df_files.append(data)\n",
    "    \n",
    "dataset = pd.concat(df_files)\n",
    "\n",
    "print(dataset.columns.values)\n",
    "print(dataset.shape)\n",
    "\n",
    "#Save dataset locally\n",
    "writer = pd.ExcelWriter(\"multi_dataset.xlsx\")\n",
    "dataset.to_excel(writer, \"Sheet1\")\n",
    "writer.save()"
   ]
  },
  {
   "cell_type": "code",
   "execution_count": 7,
   "metadata": {},
   "outputs": [
    {
     "name": "stdout",
     "output_type": "stream",
     "text": [
      "(208, 19)\n"
     ]
    }
   ],
   "source": [
    "#pre-processing\n",
    "from collections import defaultdict\n",
    "\n",
    "labelled_articles = pd.read_excel(\"dataset3.xlsx\")\n",
    "labelled_articles = labelled_articles.dropna(subset=['TEXT'])\n",
    "print(labelled_articles.shape)\n",
    "art_text_sent = np.array([sent_tokenize(article.split(\"TITLE: \")[1].replace(\"TEXT: \",\"\").strip(\" \")) for article in labelled_articles[\"TEXT\"]])\n",
    "art_text_word = np.array([word_tokenize(article.split(\"TITLE: \")[1].replace(\"TEXT: \",\"\").strip(\" \")) for article in labelled_articles[\"TEXT\"]])\n",
    "art_text_sent_word = np.array([[word_tokenize(sent) for sent in article] for article in art_text_sent])\n",
    "labels = [labelled_articles[\"Cat1\"], labelled_articles[\"Cat2\"], labelled_articles[\"Cat3\"], labelled_articles[\"Cat4\"], labelled_articles[\"Cat5\"], labelled_articles[\"Cat6\"], labelled_articles[\"Cat7\"]]\n",
    "labels = np.array(labels).transpose()\n",
    "multi_labels = np.array([[int(x) for x in row] for row in labels])"
   ]
  },
  {
   "cell_type": "code",
   "execution_count": 5,
   "metadata": {},
   "outputs": [
    {
     "data": {
      "image/png": "[encoded data removed]",
      "text/plain": [
       "<Figure size 640x480 with 1 Axes>"
      ]
     },
     "metadata": {},
     "output_type": "display_data"
    }
   ],
   "source": [
    "import numpy as np\n",
    "import matplotlib.pyplot as plt\n",
    "from matplotlib.pyplot import figure\n",
    "\n",
    "N = 7\n",
    "num_articles = len(labelled_articles)\n",
    "satisfy_count = [len(labelled_articles.loc[(labelled_articles[criteria] == 1)]) for criteria in criterias]\n",
    "not_satisfy_count = [len(labelled_articles.loc[(labelled_articles[criteria] == 0)]) for criteria in criterias]\n",
    "\n",
    "ind = np.arange(N)    # the x locations for the groups\n",
    "width = 0.35       # the width of the bars: can also be len(x) sequence\n",
    "\n",
    "figure(num=None, figsize=(8, 6), dpi=80, facecolor='w', edgecolor='k')\n",
    "p1 = plt.bar(ind, satisfy_count, width)\n",
    "p2 = plt.bar(ind, not_satisfy_count, width,\n",
    "             bottom=satisfy_count)\n",
    "plt.ylabel('# of Articles')\n",
    "plt.xlabel('Criteria #')\n",
    "plt.title('Distribution of labels for each criteria N = ' + str(num_articles))\n",
    "plt.xticks(ind, ('C1', 'C2', 'C3', 'C4', 'C5', 'C6', 'C7'))\n",
    "plt.yticks(np.arange(0, num_articles, int(num_articles/10)))\n",
    "plt.legend((p1[0], p2[0]), ('Satisfies', 'Not Satisfies'))\n",
    "\n",
    "\n",
    "plt.show()"
   ]
  },
  {
   "cell_type": "code",
   "execution_count": 8,
   "metadata": {},
   "outputs": [
    {
     "name": "stdout",
     "output_type": "stream",
     "text": [
      "[17, 13, 27, 97, 30, 11, 13]\n"
     ]
    },
    {
     "data": {
      "image/png": "[encoded data removed]",
      "text/plain": [
       "<Figure size 640x480 with 1 Axes>"
      ]
     },
     "metadata": {},
     "output_type": "display_data"
    }
   ],
   "source": [
    "scores = [0, 0, 0, 0 ,0 ,0 ,0]\n",
    "for article in multi_labels:\n",
    "    scores[np.sum(article)-1] = scores[np.sum(article)-1] + 1\n",
    "    \n",
    "print(scores)\n",
    "\n",
    "N = 7\n",
    "maximum = np.amax(scores)\n",
    "\n",
    "ind = np.arange(N)    # the x locations for the groups\n",
    "width = 0.35       # the width of the bars: can also be len(x) sequence\n",
    "\n",
    "figure(num=None, figsize=(8, 6), dpi=80, facecolor='w', edgecolor='k')\n",
    "p1 = plt.bar(ind, scores, width)\n",
    "plt.ylabel('Score Frequency')\n",
    "plt.xlabel('Score')\n",
    "plt.title('Article Score Distribution for N = ' + str(num_articles))\n",
    "plt.xticks(ind, ('1', '2', '3', '4', '5', '6', '7'))\n",
    "plt.yticks(np.arange(0, maximum, int(maximum/10)))\n",
    "plt.show()"
   ]
  },
  {
   "cell_type": "code",
   "execution_count": null,
   "metadata": {},
   "outputs": [],
   "source": []
  }
 ],
 "metadata": {
  "kernelspec": {
   "display_name": "Python 3",
   "language": "python",
   "name": "python3"
  },
  "language_info": {
   "codemirror_mode": {
    "name": "ipython",
    "version": 3
   },
   "file_extension": ".py",
   "mimetype": "text/x-python",
   "name": "python",
   "nbconvert_exporter": "python",
   "pygments_lexer": "ipython3",
   "version": "3.6.6"
  }
 },
 "nbformat": 4,
 "nbformat_minor": 2
}
